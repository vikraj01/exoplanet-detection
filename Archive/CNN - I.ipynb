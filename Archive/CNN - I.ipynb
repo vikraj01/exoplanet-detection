{
 "cells": [
  {
   "cell_type": "markdown",
   "metadata": {
    "_cell_guid": "a1e11ceb-ecb4-e83c-9571-dee02a834580",
    "_uuid": "595424eb4c5c162239022da0cd17e6635986556c"
   },
   "source": [
    "# A 1D convolutional net in Keras\n",
    "Very little preprocessing was needed. Batch normalization made a huge difference, and made it possible to achieve perfect classification within the Kaggle kernel."
   ]
  },
  {
   "cell_type": "code",
   "execution_count": 1,
   "metadata": {
    "_cell_guid": "61aec30a-f65c-02dd-77b0-67aec83e8632",
    "_execution_state": "idle",
    "_uuid": "6ce895e9b32b7216d59f64c276b7d69068b287e8"
   },
   "outputs": [
    {
     "name": "stderr",
     "output_type": "stream",
     "text": [
      "C:\\Users\\vikas\\AppData\\Local\\Temp\\ipykernel_16880\\2449683794.py:7: DeprecationWarning: Please use `uniform_filter1d` from the `scipy.ndimage` namespace, the `scipy.ndimage.filters` namespace is deprecated.\n",
      "  from scipy.ndimage.filters import uniform_filter1d\n"
     ]
    }
   ],
   "source": [
    "#We import libraries for linear algebra, graphs, and evaluation of results\n",
    "import numpy as np\n",
    "import matplotlib.pyplot as plt\n",
    "from sklearn.linear_model import LinearRegression\n",
    "from sklearn.preprocessing import StandardScaler\n",
    "from sklearn.metrics import roc_curve, roc_auc_score\n",
    "from scipy.ndimage.filters import uniform_filter1d"
   ]
  },
  {
   "cell_type": "code",
   "execution_count": 2,
   "metadata": {
    "_cell_guid": "d4f7e51a-b964-8eaf-220b-7a924aa7932e",
    "_execution_state": "idle",
    "_uuid": "3dab37c32ac2c1edef4bae4fc3534b92355911ae"
   },
   "outputs": [],
   "source": [
    "#Keras is a high level neural networks library, based on either tensorflow or theano\n",
    "from keras.models import Sequential, Model\n",
    "from keras.layers import Conv1D, MaxPool1D, Dense, Dropout, Flatten, \\\n",
    "BatchNormalization, Input, concatenate, Activation\n",
    "from keras.optimizers import Adam"
   ]
  },
  {
   "cell_type": "markdown",
   "metadata": {
    "_cell_guid": "b3da338c-5beb-d12c-9cb4-088c1eb86069",
    "_uuid": "68a1f6dba3b023e7eb59c6983fdde57851c030ce"
   },
   "source": [
    "## Load the data"
   ]
  },
  {
   "cell_type": "markdown",
   "metadata": {
    "_execution_state": "idle",
    "_uuid": "68ec0ee6eb9d8256998b7c15d37ec62b3e61eb5b"
   },
   "source": [
    "As the data format is so simple, we do not need pandas."
   ]
  },
  {
   "cell_type": "code",
   "execution_count": 4,
   "metadata": {
    "_cell_guid": "2763eb6d-1867-7254-7278-099e63ddd562",
    "_execution_state": "idle",
    "_uuid": "1cfdd50387bac260912e23444d1234540d5c1b02"
   },
   "outputs": [],
   "source": [
    "INPUT_LIB = 'Data/'\n",
    "raw_data = np.loadtxt(INPUT_LIB + 'exoTrain.csv', skiprows=1, delimiter=',')\n",
    "x_train = raw_data[:, 1:]\n",
    "y_train = raw_data[:, 0, np.newaxis] - 1.\n",
    "raw_data = np.loadtxt(INPUT_LIB + 'exoTest.csv', skiprows=1, delimiter=',')\n",
    "x_test = raw_data[:, 1:]\n",
    "y_test = raw_data[:, 0, np.newaxis] - 1.\n",
    "del raw_data"
   ]
  },
  {
   "cell_type": "markdown",
   "metadata": {
    "_execution_state": "idle",
    "_uuid": "a0b077fb1c89e5afe853f137ded82ffbfcb0449f"
   },
   "source": [
    "Scale each observation to zero mean and unit variance."
   ]
  },
  {
   "cell_type": "code",
   "execution_count": 5,
   "metadata": {
    "_cell_guid": "17cbb5bb-29d7-9a0c-193c-9c132cdea389",
    "_execution_state": "idle",
    "_uuid": "76dd566fee56a9feaf06b9cff2fa54f5239e33cb"
   },
   "outputs": [],
   "source": [
    "x_train = ((x_train - np.mean(x_train, axis=1).reshape(-1,1)) / \n",
    "           np.std(x_train, axis=1).reshape(-1,1))\n",
    "x_test = ((x_test - np.mean(x_test, axis=1).reshape(-1,1)) / \n",
    "          np.std(x_test, axis=1).reshape(-1,1))"
   ]
  },
  {
   "cell_type": "markdown",
   "metadata": {
    "_execution_state": "idle",
    "_uuid": "e2aa36f3133a1fad819e48dc60e120aed6283ce2"
   },
   "source": [
    "This is our only preprocessing step: We add an input corresponding to the running average over\n",
    "200 time steps. This helps the net ignore high frequency noise and instead look at non-local\n",
    "information. Look at the graphs below to see what it does."
   ]
  },
  {
   "cell_type": "code",
   "execution_count": 6,
   "metadata": {
    "_cell_guid": "2c006e96-8688-72e4-6abe-65d5d8f22fc6",
    "_execution_state": "busy",
    "_uuid": "f4d354b6d9d6b2fb5c788355c99e61a62699323c"
   },
   "outputs": [],
   "source": [
    "x_train = np.stack([x_train, uniform_filter1d(x_train, axis=1, size=200)], axis=2)\n",
    "x_test = np.stack([x_test, uniform_filter1d(x_test, axis=1, size=200)], axis=2)"
   ]
  },
  {
   "cell_type": "markdown",
   "metadata": {
    "_cell_guid": "c90d56a7-dec3-65a3-cac3-32e36c6bf31c",
    "_uuid": "6651259e2b8bab4c98f4649263e583201e494e45"
   },
   "source": [
    "## Train the model"
   ]
  },
  {
   "cell_type": "markdown",
   "metadata": {
    "_execution_state": "idle",
    "_uuid": "a6eeb9020d7eae0925578490c692217659cd4a6b"
   },
   "source": [
    "With the Sequential API for Keras, we only need to add the layers one at a time. Each 1D convolutional layers corresponds to a local filter, and then a pooling layer reduces the data length by approximately a factor 4. At the end, there are two dense layers, just as we would in a typical image classifier. Batch normalization layers speed up convergence. "
   ]
  },
  {
   "cell_type": "code",
   "execution_count": 7,
   "metadata": {
    "_cell_guid": "3637a7be-c21b-3b78-b6b6-9146332f3972",
    "_execution_state": "busy",
    "_uuid": "bbbee746cbd798b62d349a2b4d828e2fb889e164"
   },
   "outputs": [],
   "source": [
    "model = Sequential()\n",
    "model.add(Conv1D(filters=8, kernel_size=11, activation='relu', input_shape=x_train.shape[1:]))\n",
    "model.add(MaxPool1D(strides=4))\n",
    "model.add(BatchNormalization())\n",
    "model.add(Conv1D(filters=16, kernel_size=11, activation='relu'))\n",
    "model.add(MaxPool1D(strides=4))\n",
    "model.add(BatchNormalization())\n",
    "model.add(Conv1D(filters=32, kernel_size=11, activation='relu'))\n",
    "model.add(MaxPool1D(strides=4))\n",
    "model.add(BatchNormalization())\n",
    "model.add(Conv1D(filters=64, kernel_size=11, activation='relu'))\n",
    "model.add(MaxPool1D(strides=4))\n",
    "model.add(Flatten())\n",
    "model.add(Dropout(0.5))\n",
    "model.add(Dense(64, activation='relu'))\n",
    "model.add(Dropout(0.25))\n",
    "model.add(Dense(64, activation='relu'))\n",
    "model.add(Dense(1, activation='sigmoid'))"
   ]
  },
  {
   "cell_type": "markdown",
   "metadata": {
    "_execution_state": "idle",
    "_uuid": "5d25c5ad8a6ddd1319af7c56075a05fbfec8749b"
   },
   "source": [
    "The data here is extremely unbalanced, with only a few positive examples. To correct for this, I use the positive examples a lot more often, so that the net sees 50% of each over each bats. Also, I generate new examples by rotation them randomly in time. This is called augmentation and is similar to when we rotate/shift examples in image classification."
   ]
  },
  {
   "cell_type": "code",
   "execution_count": 8,
   "metadata": {
    "_cell_guid": "4ba8b520-7302-747c-7f84-8a816508e651",
    "_execution_state": "busy",
    "_uuid": "0604716b9a92c9113dcd16631b6fc48ff006fd53"
   },
   "outputs": [],
   "source": [
    "def batch_generator(x_train, y_train, batch_size=32):\n",
    "    \"\"\"\n",
    "    Gives equal number of positive and negative samples, and rotates them randomly in time\n",
    "    \"\"\"\n",
    "    half_batch = batch_size // 2\n",
    "    x_batch = np.empty((batch_size, x_train.shape[1], x_train.shape[2]), dtype='float32')\n",
    "    y_batch = np.empty((batch_size, y_train.shape[1]), dtype='float32')\n",
    "    \n",
    "    yes_idx = np.where(y_train[:,0] == 1.)[0]\n",
    "    non_idx = np.where(y_train[:,0] == 0.)[0]\n",
    "    \n",
    "    while True:\n",
    "        np.random.shuffle(yes_idx)\n",
    "        np.random.shuffle(non_idx)\n",
    "    \n",
    "        x_batch[:half_batch] = x_train[yes_idx[:half_batch]]\n",
    "        x_batch[half_batch:] = x_train[non_idx[half_batch:batch_size]]\n",
    "        y_batch[:half_batch] = y_train[yes_idx[:half_batch]]\n",
    "        y_batch[half_batch:] = y_train[non_idx[half_batch:batch_size]]\n",
    "    \n",
    "        for i in range(batch_size):\n",
    "            sz = np.random.randint(x_batch.shape[1])\n",
    "            x_batch[i] = np.roll(x_batch[i], sz, axis = 0)\n",
    "     \n",
    "        yield x_batch, y_batch"
   ]
  },
  {
   "cell_type": "markdown",
   "metadata": {
    "_execution_state": "idle",
    "_uuid": "fd043b67ebf19352b1b8ec2a063ad8a50765e70d"
   },
   "source": [
    "The hyperparameters here are chosen to finish training within the Kernel, rather than to get optimal results. On a GPU, I might have chosen a smaller learning rate, and perhaps SGD instead of Adam. As it turned out, results were brilliant anyway."
   ]
  },
  {
   "cell_type": "code",
   "execution_count": 9,
   "metadata": {
    "_cell_guid": "fe6afcb2-7e0a-501d-bf19-759c0b3fda77",
    "_execution_state": "idle",
    "_uuid": "c8844e546b1d4677b3be321cbc203c8c617ef7c4"
   },
   "outputs": [
    {
     "name": "stderr",
     "output_type": "stream",
     "text": [
      "C:\\Users\\vikas\\AppData\\Local\\Temp\\ipykernel_16880\\557438693.py:3: UserWarning: `Model.fit_generator` is deprecated and will be removed in a future version. Please use `Model.fit`, which supports generators.\n",
      "  hist = model.fit_generator(batch_generator(x_train, y_train, 32),\n"
     ]
    }
   ],
   "source": [
    "#Start with a slightly lower learning rate, to ensure convergence\n",
    "model.compile(optimizer=Adam(1e-5), loss = 'binary_crossentropy', metrics=['accuracy'])\n",
    "hist = model.fit_generator(batch_generator(x_train, y_train, 32), \n",
    "                           validation_data=(x_test, y_test), \n",
    "                           verbose=0, epochs=5,\n",
    "                           steps_per_epoch=x_train.shape[1]//32)"
   ]
  },
  {
   "cell_type": "code",
   "execution_count": 10,
   "metadata": {
    "_cell_guid": "964bdbf2-a325-11da-98c8-4dd56b31c9ad",
    "_execution_state": "busy",
    "_uuid": "6030dfe0cb763066fdecf81a27dff897cce69af4"
   },
   "outputs": [
    {
     "name": "stdout",
     "output_type": "stream",
     "text": [
      "Epoch 1/40\n"
     ]
    },
    {
     "name": "stderr",
     "output_type": "stream",
     "text": [
      "C:\\Users\\vikas\\AppData\\Local\\Temp\\ipykernel_16880\\1116408551.py:3: UserWarning: `Model.fit_generator` is deprecated and will be removed in a future version. Please use `Model.fit`, which supports generators.\n",
      "  hist = model.fit_generator(batch_generator(x_train, y_train, 32),\n"
     ]
    },
    {
     "name": "stdout",
     "output_type": "stream",
     "text": [
      "99/99 - 5s - loss: 0.7128 - accuracy: 0.5230 - val_loss: 0.6609 - val_accuracy: 0.5930 - 5s/epoch - 53ms/step\n",
      "Epoch 2/40\n",
      "99/99 - 3s - loss: 0.6936 - accuracy: 0.5530 - val_loss: 0.6469 - val_accuracy: 0.6193 - 3s/epoch - 29ms/step\n",
      "Epoch 3/40\n",
      "99/99 - 3s - loss: 0.6841 - accuracy: 0.5855 - val_loss: 0.6251 - val_accuracy: 0.6807 - 3s/epoch - 30ms/step\n",
      "Epoch 4/40\n",
      "99/99 - 3s - loss: 0.6725 - accuracy: 0.5953 - val_loss: 0.6246 - val_accuracy: 0.6719 - 3s/epoch - 29ms/step\n",
      "Epoch 5/40\n",
      "99/99 - 3s - loss: 0.6556 - accuracy: 0.6020 - val_loss: 0.6189 - val_accuracy: 0.6807 - 3s/epoch - 29ms/step\n",
      "Epoch 6/40\n",
      "99/99 - 3s - loss: 0.6455 - accuracy: 0.6193 - val_loss: 0.6055 - val_accuracy: 0.7175 - 3s/epoch - 28ms/step\n",
      "Epoch 7/40\n",
      "99/99 - 3s - loss: 0.6374 - accuracy: 0.6237 - val_loss: 0.6087 - val_accuracy: 0.7123 - 3s/epoch - 28ms/step\n",
      "Epoch 8/40\n",
      "99/99 - 3s - loss: 0.6297 - accuracy: 0.6452 - val_loss: 0.5967 - val_accuracy: 0.7298 - 3s/epoch - 29ms/step\n",
      "Epoch 9/40\n",
      "99/99 - 3s - loss: 0.6147 - accuracy: 0.6626 - val_loss: 0.5976 - val_accuracy: 0.7281 - 3s/epoch - 30ms/step\n",
      "Epoch 10/40\n",
      "99/99 - 3s - loss: 0.6175 - accuracy: 0.6578 - val_loss: 0.5924 - val_accuracy: 0.7281 - 3s/epoch - 30ms/step\n",
      "Epoch 11/40\n",
      "99/99 - 3s - loss: 0.6125 - accuracy: 0.6673 - val_loss: 0.5856 - val_accuracy: 0.7246 - 3s/epoch - 29ms/step\n",
      "Epoch 12/40\n",
      "99/99 - 3s - loss: 0.6192 - accuracy: 0.6607 - val_loss: 0.5898 - val_accuracy: 0.7228 - 3s/epoch - 29ms/step\n",
      "Epoch 13/40\n",
      "99/99 - 3s - loss: 0.6102 - accuracy: 0.6780 - val_loss: 0.5874 - val_accuracy: 0.7298 - 3s/epoch - 29ms/step\n",
      "Epoch 14/40\n",
      "99/99 - 3s - loss: 0.5925 - accuracy: 0.6806 - val_loss: 0.5764 - val_accuracy: 0.7386 - 3s/epoch - 29ms/step\n",
      "Epoch 15/40\n",
      "99/99 - 3s - loss: 0.5953 - accuracy: 0.6913 - val_loss: 0.5787 - val_accuracy: 0.7263 - 3s/epoch - 29ms/step\n",
      "Epoch 16/40\n",
      "99/99 - 3s - loss: 0.5907 - accuracy: 0.6869 - val_loss: 0.5786 - val_accuracy: 0.7333 - 3s/epoch - 29ms/step\n",
      "Epoch 17/40\n",
      "99/99 - 3s - loss: 0.5766 - accuracy: 0.7008 - val_loss: 0.5731 - val_accuracy: 0.7386 - 3s/epoch - 30ms/step\n",
      "Epoch 18/40\n",
      "99/99 - 3s - loss: 0.5752 - accuracy: 0.6982 - val_loss: 0.5674 - val_accuracy: 0.7439 - 3s/epoch - 31ms/step\n",
      "Epoch 19/40\n",
      "99/99 - 3s - loss: 0.5704 - accuracy: 0.7090 - val_loss: 0.5535 - val_accuracy: 0.7526 - 3s/epoch - 31ms/step\n",
      "Epoch 20/40\n",
      "99/99 - 3s - loss: 0.5748 - accuracy: 0.7023 - val_loss: 0.5549 - val_accuracy: 0.7298 - 3s/epoch - 30ms/step\n",
      "Epoch 21/40\n",
      "99/99 - 3s - loss: 0.5667 - accuracy: 0.7055 - val_loss: 0.5599 - val_accuracy: 0.7333 - 3s/epoch - 30ms/step\n",
      "Epoch 22/40\n",
      "99/99 - 3s - loss: 0.5671 - accuracy: 0.7064 - val_loss: 0.5654 - val_accuracy: 0.7070 - 3s/epoch - 30ms/step\n",
      "Epoch 23/40\n",
      "99/99 - 3s - loss: 0.5588 - accuracy: 0.7109 - val_loss: 0.5598 - val_accuracy: 0.7158 - 3s/epoch - 31ms/step\n",
      "Epoch 24/40\n",
      "99/99 - 3s - loss: 0.5636 - accuracy: 0.7112 - val_loss: 0.5523 - val_accuracy: 0.7193 - 3s/epoch - 31ms/step\n",
      "Epoch 25/40\n",
      "99/99 - 3s - loss: 0.5524 - accuracy: 0.7175 - val_loss: 0.5695 - val_accuracy: 0.6982 - 3s/epoch - 31ms/step\n",
      "Epoch 26/40\n",
      "99/99 - 3s - loss: 0.5509 - accuracy: 0.7134 - val_loss: 0.5487 - val_accuracy: 0.7105 - 3s/epoch - 30ms/step\n",
      "Epoch 27/40\n",
      "99/99 - 3s - loss: 0.5326 - accuracy: 0.7330 - val_loss: 0.5667 - val_accuracy: 0.6930 - 3s/epoch - 30ms/step\n",
      "Epoch 28/40\n",
      "99/99 - 3s - loss: 0.5250 - accuracy: 0.7355 - val_loss: 0.5525 - val_accuracy: 0.7123 - 3s/epoch - 32ms/step\n",
      "Epoch 29/40\n",
      "99/99 - 3s - loss: 0.5224 - accuracy: 0.7336 - val_loss: 0.5461 - val_accuracy: 0.7018 - 3s/epoch - 30ms/step\n",
      "Epoch 30/40\n",
      "99/99 - 3s - loss: 0.5124 - accuracy: 0.7352 - val_loss: 0.5520 - val_accuracy: 0.7000 - 3s/epoch - 31ms/step\n",
      "Epoch 31/40\n",
      "99/99 - 3s - loss: 0.5130 - accuracy: 0.7427 - val_loss: 0.5399 - val_accuracy: 0.7088 - 3s/epoch - 31ms/step\n",
      "Epoch 32/40\n",
      "99/99 - 3s - loss: 0.5051 - accuracy: 0.7424 - val_loss: 0.5551 - val_accuracy: 0.6912 - 3s/epoch - 30ms/step\n",
      "Epoch 33/40\n",
      "99/99 - 3s - loss: 0.4955 - accuracy: 0.7551 - val_loss: 0.5378 - val_accuracy: 0.7158 - 3s/epoch - 31ms/step\n",
      "Epoch 34/40\n",
      "99/99 - 3s - loss: 0.4954 - accuracy: 0.7664 - val_loss: 0.5358 - val_accuracy: 0.6965 - 3s/epoch - 30ms/step\n",
      "Epoch 35/40\n",
      "99/99 - 3s - loss: 0.4955 - accuracy: 0.7658 - val_loss: 0.5405 - val_accuracy: 0.6947 - 3s/epoch - 31ms/step\n",
      "Epoch 36/40\n",
      "99/99 - 3s - loss: 0.4697 - accuracy: 0.7787 - val_loss: 0.5893 - val_accuracy: 0.6807 - 3s/epoch - 29ms/step\n",
      "Epoch 37/40\n",
      "99/99 - 3s - loss: 0.4813 - accuracy: 0.7604 - val_loss: 0.5451 - val_accuracy: 0.6947 - 3s/epoch - 31ms/step\n",
      "Epoch 38/40\n",
      "99/99 - 3s - loss: 0.4629 - accuracy: 0.7828 - val_loss: 0.5541 - val_accuracy: 0.6842 - 3s/epoch - 29ms/step\n",
      "Epoch 39/40\n",
      "99/99 - 3s - loss: 0.4627 - accuracy: 0.7819 - val_loss: 0.5313 - val_accuracy: 0.7000 - 3s/epoch - 29ms/step\n",
      "Epoch 40/40\n",
      "99/99 - 3s - loss: 0.4464 - accuracy: 0.7926 - val_loss: 0.5412 - val_accuracy: 0.6965 - 3s/epoch - 29ms/step\n"
     ]
    }
   ],
   "source": [
    "#Then speed things up a little\n",
    "model.compile(optimizer=Adam(4e-5), loss = 'binary_crossentropy', metrics=['accuracy'])\n",
    "hist = model.fit_generator(batch_generator(x_train, y_train, 32), \n",
    "                           validation_data=(x_test, y_test), \n",
    "                           verbose=2, epochs=40,\n",
    "                           steps_per_epoch=x_train.shape[1]//32)"
   ]
  },
  {
   "cell_type": "markdown",
   "metadata": {
    "_execution_state": "busy",
    "_uuid": "31d3be9df5d7387bf68eb9ca2c1c73c1590c8681"
   },
   "source": [
    "#Evaluate the model"
   ]
  },
  {
   "cell_type": "markdown",
   "metadata": {
    "_execution_state": "idle",
    "_uuid": "d8a74931a02d8ceb43c03f9f687f934581e11e9d"
   },
   "source": [
    "First we look at convergence"
   ]
  },
  {
   "cell_type": "code",
   "execution_count": 12,
   "metadata": {
    "_cell_guid": "020d5851-762a-d02c-77fa-319c3af6a4af",
    "_execution_state": "idle",
    "_uuid": "6c22b94c662b6b25fd33c85fd05892aca54e5d86"
   },
   "outputs": [
    {
     "data": {
      "image/png": "[encoded data removed]",
      "text/plain": [
       "<Figure size 640x480 with 1 Axes>"
      ]
     },
     "metadata": {},
     "output_type": "display_data"
    },
    {
     "ename": "KeyError",
     "evalue": "'accurracy'",
     "output_type": "error",
     "traceback": [
      "\u001b[1;31m---------------------------------------------------------------------------\u001b[0m",
      "\u001b[1;31mKeyError\u001b[0m                                  Traceback (most recent call last)",
      "Cell \u001b[1;32mIn[12], line 4\u001b[0m\n\u001b[0;32m      2\u001b[0m plt\u001b[38;5;241m.\u001b[39mplot(hist\u001b[38;5;241m.\u001b[39mhistory[\u001b[38;5;124m'\u001b[39m\u001b[38;5;124mval_loss\u001b[39m\u001b[38;5;124m'\u001b[39m], color\u001b[38;5;241m=\u001b[39m\u001b[38;5;124m'\u001b[39m\u001b[38;5;124mr\u001b[39m\u001b[38;5;124m'\u001b[39m)\n\u001b[0;32m      3\u001b[0m plt\u001b[38;5;241m.\u001b[39mshow()\n\u001b[1;32m----> 4\u001b[0m plt\u001b[38;5;241m.\u001b[39mplot(\u001b[43mhist\u001b[49m\u001b[38;5;241;43m.\u001b[39;49m\u001b[43mhistory\u001b[49m\u001b[43m[\u001b[49m\u001b[38;5;124;43m'\u001b[39;49m\u001b[38;5;124;43maccurracy\u001b[39;49m\u001b[38;5;124;43m'\u001b[39;49m\u001b[43m]\u001b[49m, color\u001b[38;5;241m=\u001b[39m\u001b[38;5;124m'\u001b[39m\u001b[38;5;124mb\u001b[39m\u001b[38;5;124m'\u001b[39m)\n\u001b[0;32m      5\u001b[0m plt\u001b[38;5;241m.\u001b[39mplot(hist\u001b[38;5;241m.\u001b[39mhistory[\u001b[38;5;124m'\u001b[39m\u001b[38;5;124mval_acc\u001b[39m\u001b[38;5;124m'\u001b[39m], color\u001b[38;5;241m=\u001b[39m\u001b[38;5;124m'\u001b[39m\u001b[38;5;124mr\u001b[39m\u001b[38;5;124m'\u001b[39m)\n\u001b[0;32m      6\u001b[0m plt\u001b[38;5;241m.\u001b[39mshow()\n",
      "\u001b[1;31mKeyError\u001b[0m: 'accurracy'"
     ]
    }
   ],
   "source": [
    "plt.plot(hist.history['loss'], color='b')\n",
    "plt.plot(hist.history['val_loss'], color='r')\n",
    "plt.show()\n",
    "plt.plot(hist.history['acc'], color='b')\n",
    "plt.plot(hist.history['val_acc'], color='r')\n",
    "plt.show()"
   ]
  },
  {
   "cell_type": "code",
   "execution_count": 25,
   "metadata": {},
   "outputs": [
    {
     "name": "stdout",
     "output_type": "stream",
     "text": [
      "18/18 [==============================] - 0s 9ms/step\n",
      "Validation for test data:\n",
      "col_0    0    1\n",
      "row_0          \n",
      "0.0    392  173\n",
      "1.0      0    5\n",
      "Accuracy: 0.696 Precision: 0.028 Recall: 1.000 F_beta: 0.055\n"
     ]
    }
   ],
   "source": [
    "from sklearn.metrics import (\n",
    "    accuracy_score, precision_score, recall_score,\n",
    "    confusion_matrix, fbeta_score, precision_recall_curve,\n",
    "    average_precision_score, auc\n",
    ")\n",
    "import pandas as pd\n",
    "def evaluation(x_test, y_test):\n",
    "    # Make predictions for test data\n",
    "#     shuffle_in_unison(x_test, y_test)\n",
    "    y_pred = model.predict(x_test)[:, 0]\n",
    "    pred = np.empty((1, len(y_pred)), dtype=object)\n",
    "    pred = np.where(y_pred >= 0.5, 1, 0)\n",
    "    y_test = np.reshape(y_test, len(y_test))\n",
    "    pred = np.reshape(pred, len(pred))\n",
    "\n",
    "    # Create confusion matrix for test data\n",
    "    print('Validation for test data:')\n",
    "    conf_matrix = pd.crosstab(y_test, pred)\n",
    "    print(conf_matrix)\n",
    "\n",
    "    # Calculate precision and recall\n",
    "    accuracy = accuracy_score(y_test, pred)\n",
    "    precision = precision_score(y_test, pred)\n",
    "    recall = recall_score(y_test, pred)\n",
    "    fbeta = fbeta_score(y_test, pred, beta=1)\n",
    "    print('Accuracy: %.3f Precision: %.3f Recall: %.3f F_beta: %.3f' % (accuracy, precision, recall, fbeta))\n",
    "evaluation(x_test, y_test)"
   ]
  },
  {
   "cell_type": "markdown",
   "metadata": {
    "_execution_state": "idle",
    "_uuid": "62f58f451ef2de7c4895f8bdb449dae44a122871"
   },
   "source": [
    "We then use our trained net to classify the test set."
   ]
  },
  {
   "cell_type": "code",
   "execution_count": 20,
   "metadata": {
    "_cell_guid": "8ef32235-eebb-91e2-4571-1b585aa86ad4",
    "_execution_state": "idle",
    "_uuid": "62e80b4160b0bfd27bf1acdb2e5b6baed971fc01"
   },
   "outputs": [
    {
     "name": "stdout",
     "output_type": "stream",
     "text": [
      "18/18 [==============================] - 0s 9ms/step\n",
      "[6.85638845e-01 8.46960902e-01 6.14286184e-01 9.38735783e-01\n",
      " 9.54640269e-01 1.44988773e-02 2.40560845e-01 6.20673239e-01\n",
      " 3.40587020e-01 3.35051805e-01 1.52151985e-02 2.86926866e-01\n",
      " 2.23728761e-01 6.49702728e-01 2.78127998e-01 1.09986603e-01\n",
      " 2.65913188e-01 6.84634373e-02 1.79537795e-02 3.10644478e-01\n",
      " 3.13421302e-02 6.96159780e-01 6.06200732e-02 7.81611502e-01\n",
      " 1.68082923e-01 6.03048384e-01 6.99066579e-01 8.59864891e-01\n",
      " 5.33835649e-01 2.24543940e-02 4.59014028e-01 5.57463840e-02\n",
      " 2.72458140e-02 3.89032245e-01 6.07636452e-01 2.86528081e-01\n",
      " 2.78148860e-01 5.54279864e-01 3.03707998e-02 1.80116564e-01\n",
      " 6.28408551e-01 1.77189037e-02 7.87658811e-01 3.50532010e-02\n",
      " 2.87822355e-02 5.55549562e-02 4.32123423e-01 4.32662070e-02\n",
      " 5.54307317e-03 3.92484851e-02 6.23444328e-03 5.08996725e-01\n",
      " 5.58323085e-01 8.65626097e-01 8.97495210e-01 1.39770657e-02\n",
      " 2.87158310e-01 2.14753766e-02 3.57009545e-02 6.64204180e-01\n",
      " 3.23888421e-01 8.61252606e-01 1.36354053e-02 2.32691139e-01\n",
      " 6.36375844e-01 8.03707957e-01 6.67491794e-01 7.54545510e-01\n",
      " 6.81708872e-01 2.26977080e-01 1.93034977e-01 3.11117824e-02\n",
      " 4.09966975e-01 6.75985813e-02 1.86220091e-02 4.85051125e-02\n",
      " 1.21414296e-01 6.67456865e-01 3.28490257e-01 5.30951977e-01\n",
      " 1.57191660e-02 6.59144521e-01 7.04311430e-01 1.31008485e-02\n",
      " 1.28976956e-01 4.19181645e-01 3.46258789e-01 7.60303795e-01\n",
      " 1.91757679e-02 9.29821134e-01 1.73187226e-01 6.06261373e-01\n",
      " 1.37047127e-01 2.42712930e-01 6.53135777e-02 1.73141584e-02\n",
      " 5.32911062e-01 7.33634010e-02 2.57680565e-01 1.66771188e-01\n",
      " 1.40815273e-01 3.26935440e-01 1.25814537e-02 7.21859276e-01\n",
      " 7.52819955e-01 3.34373266e-02 6.15207911e-01 6.66855752e-01\n",
      " 1.17335841e-01 7.31131971e-01 6.13687277e-01 2.73663044e-01\n",
      " 2.80162077e-02 2.40046814e-01 4.53708529e-01 1.44922048e-01\n",
      " 7.87848115e-01 8.81230235e-01 3.01653951e-01 1.56209826e-01\n",
      " 8.00214410e-01 1.23522960e-01 6.50570035e-01 2.05414787e-01\n",
      " 7.65204191e-01 9.20045748e-02 3.45120490e-01 4.55588609e-01\n",
      " 1.84463605e-01 1.70517698e-01 4.21294153e-01 1.68368131e-01\n",
      " 5.31981468e-01 2.73236811e-01 5.04051894e-02 1.35407578e-02\n",
      " 6.69736207e-01 9.11363661e-01 7.80577481e-01 7.69898236e-01\n",
      " 2.20077727e-02 6.13366127e-01 4.22989339e-01 2.53672269e-03\n",
      " 5.94607830e-01 7.05791950e-01 7.21758962e-01 6.42253220e-01\n",
      " 9.04147089e-01 1.60385054e-02 6.04211867e-01 2.89185256e-01\n",
      " 6.05664067e-02 1.58272758e-01 3.43107849e-01 3.97999585e-02\n",
      " 4.57873642e-01 4.01116088e-02 7.98292179e-03 7.68798709e-01\n",
      " 4.26283687e-01 3.29818130e-01 2.26470977e-01 4.07959223e-01\n",
      " 6.10368550e-01 3.98044139e-01 2.81974003e-02 1.09820165e-01\n",
      " 2.60698479e-02 2.63100624e-01 4.36630487e-01 9.18909460e-02\n",
      " 6.99061900e-02 6.35775983e-01 1.60280079e-01 4.98737991e-01\n",
      " 1.16205402e-01 4.46484387e-02 7.14312315e-01 4.44159955e-01\n",
      " 5.43522358e-01 5.75924218e-01 2.16368353e-03 6.80984080e-01\n",
      " 5.81075966e-01 7.98069298e-01 5.67450881e-01 4.48134840e-01\n",
      " 4.24906373e-01 4.03599381e-01 1.58713628e-02 2.50166804e-01\n",
      " 5.89645624e-01 7.09511876e-01 4.74203527e-01 1.90613583e-01\n",
      " 4.70248640e-01 4.95571196e-02 1.32491693e-01 6.73322752e-02\n",
      " 6.94463477e-02 7.04633057e-01 1.07647358e-02 1.02648333e-01\n",
      " 3.74203384e-01 6.47102594e-01 8.24768066e-01 4.45469767e-01\n",
      " 6.41395390e-01 4.90556091e-01 1.56334475e-01 8.94547552e-02\n",
      " 9.52984095e-02 2.96836108e-01 2.58777946e-01 2.23557856e-02\n",
      " 6.34639680e-01 4.23246592e-01 8.70202631e-02 1.33585632e-01\n",
      " 4.78212893e-01 5.39192080e-01 7.33983994e-01 5.25074191e-02\n",
      " 4.44413275e-01 9.22358990e-01 2.91109860e-01 1.48727089e-01\n",
      " 1.65556014e-01 7.77073383e-01 8.38777304e-01 5.79615891e-01\n",
      " 3.55873108e-01 6.84025943e-01 4.03532743e-01 5.51876009e-01\n",
      " 8.78873654e-03 7.71777034e-02 1.49683401e-01 3.12313996e-02\n",
      " 1.69241382e-03 2.11290330e-01 7.50063717e-01 9.16020051e-02\n",
      " 1.14999272e-01 6.76613867e-01 9.21562493e-01 6.19528949e-01\n",
      " 5.42372912e-02 3.78877103e-01 2.94355810e-01 5.83295465e-01\n",
      " 4.61786687e-02 1.30903423e-01 8.61103460e-02 3.97941977e-01\n",
      " 4.50732678e-01 8.05582404e-02 7.74164796e-01 3.20798844e-01\n",
      " 3.34766626e-01 4.08019274e-01 5.24828210e-02 6.58394694e-01\n",
      " 5.66917658e-01 3.01977783e-01 1.12644583e-02 4.70052421e-01\n",
      " 7.75423497e-02 6.76501811e-01 1.47569003e-02 2.78168917e-01\n",
      " 2.47391567e-01 3.63313854e-01 4.32030708e-02 9.14373435e-03\n",
      " 3.38058501e-01 7.73872614e-01 7.84765005e-01 2.49083534e-01\n",
      " 4.56199020e-01 5.71927130e-01 4.38920379e-01 1.64281130e-01\n",
      " 2.26970389e-02 3.13698500e-01 7.40383938e-02 3.76487672e-01\n",
      " 1.63279846e-01 6.40027583e-01 4.93293852e-02 1.04982875e-01\n",
      " 5.39351106e-01 5.36360145e-01 1.89300001e-01 1.37598932e-01\n",
      " 3.75616550e-01 2.74302393e-01 3.84010434e-01 4.43515807e-01\n",
      " 1.57294869e-01 4.96436954e-01 3.82179357e-02 5.19169331e-01\n",
      " 5.97240150e-01 7.43410201e-04 2.65208125e-01 3.36676203e-02\n",
      " 7.68018007e-01 2.12156117e-01 8.98965776e-01 1.21618629e-01\n",
      " 5.87874055e-01 6.84410572e-01 1.73005968e-01 1.55044552e-02\n",
      " 4.49778512e-02 8.12992379e-02 6.14139855e-01 1.55481426e-02\n",
      " 4.40013483e-02 2.67050043e-03 1.46450013e-01 3.51736546e-01\n",
      " 5.41759312e-01 3.86394292e-01 3.56296211e-01 1.71509743e-01\n",
      " 3.57782811e-01 3.65148783e-01 1.47697879e-02 4.84703720e-01\n",
      " 5.97483397e-01 3.09723973e-01 5.44637859e-01 2.17029322e-02\n",
      " 1.67732373e-01 1.57253340e-01 4.47922677e-01 1.32859588e-01\n",
      " 3.69211525e-01 6.25431299e-01 5.60129732e-02 4.31625575e-01\n",
      " 2.18784764e-01 3.34955156e-02 2.95756340e-01 7.76434720e-01\n",
      " 5.07565774e-03 5.21059811e-01 4.98554558e-01 3.06606293e-02\n",
      " 8.51992011e-01 6.66677952e-01 5.15928507e-01 3.52275581e-03\n",
      " 1.42184451e-01 1.78421140e-01 4.06971248e-03 3.32417995e-01\n",
      " 9.17661130e-01 5.96089400e-02 3.04806739e-01 9.03175771e-01\n",
      " 5.35953939e-01 1.68621540e-02 2.10405495e-02 7.03529656e-01\n",
      " 6.25989661e-02 3.09945375e-01 2.51503676e-01 1.25818206e-02\n",
      " 9.67923462e-01 1.09032430e-01 5.93721986e-01 3.53417784e-01\n",
      " 1.24286890e-01 4.30969030e-01 4.91902754e-02 1.84475314e-02\n",
      " 4.49003838e-02 6.22785613e-02 5.24262607e-01 6.81124628e-02\n",
      " 1.35635257e-01 4.79874294e-03 5.31459928e-01 4.17883098e-01\n",
      " 4.72802967e-01 1.00351676e-01 2.14997586e-02 2.53883153e-02\n",
      " 4.17799503e-01 3.90028805e-02 4.73234177e-01 5.69755256e-01\n",
      " 4.25116301e-01 3.16855311e-01 1.55081237e-02 5.55564642e-01\n",
      " 9.10462439e-01 5.23390055e-01 7.88178980e-01 3.64202738e-01\n",
      " 1.08774886e-01 6.69074059e-02 5.52367747e-01 7.95190483e-02\n",
      " 2.15250123e-02 4.01527137e-02 9.41732619e-03 1.06989704e-02\n",
      " 7.81587213e-02 2.94069182e-02 4.85952258e-01 9.18245435e-01\n",
      " 1.75645918e-01 9.61236596e-01 1.05413966e-01 4.14344937e-01\n",
      " 4.26689349e-02 7.59880662e-01 3.50576103e-01 6.30538538e-02\n",
      " 7.09490702e-02 1.08184449e-01 1.22482711e-02 1.70975570e-02\n",
      " 2.29145912e-03 4.17963535e-01 1.12396525e-02 3.13281566e-01\n",
      " 6.68710470e-01 6.89880192e-01 6.50198162e-01 2.27635846e-01\n",
      " 9.06535506e-01 9.44403261e-02 9.29356217e-02 9.80617777e-02\n",
      " 5.71611803e-03 3.07751507e-01 3.28139096e-01 2.14406714e-01\n",
      " 4.04703081e-01 2.69287966e-07 8.08846485e-03 5.56336403e-01\n",
      " 1.68738708e-01 3.80558103e-01 6.38111532e-01 2.35037953e-01\n",
      " 1.06147416e-02 5.47827661e-01 5.79533756e-01 2.00307503e-01\n",
      " 4.55612957e-01 4.82032560e-02 1.99894868e-02 5.86825550e-01\n",
      " 9.54518735e-01 3.81090939e-01 2.39628643e-01 4.72482651e-01\n",
      " 8.27675939e-01 4.76311326e-01 2.47553904e-02 2.56708153e-02\n",
      " 5.66974103e-01 2.41782777e-02 2.35001281e-01 4.25138056e-01\n",
      " 4.86984402e-02 3.41062732e-02 4.62488860e-01 7.35862032e-02\n",
      " 3.52650195e-01 6.37589023e-02 1.24433570e-01 1.54867098e-01\n",
      " 4.59846914e-01 4.97570604e-01 5.97334743e-01 5.09651424e-03\n",
      " 1.02500625e-01 9.20563340e-01 5.44411004e-01 8.45428348e-01\n",
      " 8.56983066e-01 1.50203351e-02 1.54679403e-01 2.16734245e-01\n",
      " 1.78359821e-03 8.16704452e-01 4.06861067e-01 3.37222405e-02\n",
      " 6.89140141e-01 1.60837710e-01 9.05289650e-01 2.74755776e-01\n",
      " 9.65503529e-02 6.90323040e-02 2.21599922e-01 7.72453174e-02\n",
      " 3.50004047e-01 4.05784070e-01 6.01550221e-01 7.13699102e-01\n",
      " 6.38906121e-01 6.94675803e-01 7.68153183e-03 3.46997678e-01\n",
      " 3.23704571e-01 7.00941741e-01 9.66626480e-02 2.32009180e-02\n",
      " 5.72274685e-01 1.07768634e-02 6.28874660e-01 2.39011943e-01\n",
      " 4.73643422e-01 4.22570063e-03 1.22364452e-02 8.18940461e-01\n",
      " 3.90792370e-01 4.89975005e-01 5.46032190e-01 8.69974732e-01\n",
      " 5.27052820e-01 3.74493338e-02 8.28896686e-02 4.55009818e-01\n",
      " 1.11485077e-02 7.98779353e-02 1.46015985e-02 1.36725470e-01\n",
      " 3.92051302e-02 7.71332145e-01 1.97315663e-02 1.92644045e-01\n",
      " 2.59426922e-01 3.06003783e-02 3.40718508e-01 5.63953161e-01\n",
      " 5.21840692e-01 6.66684508e-01 7.12942109e-02 1.05450086e-01\n",
      " 3.03129941e-01 7.47437835e-01 5.61793387e-01 7.32566118e-01\n",
      " 5.24728179e-01 5.51730037e-01 5.43348044e-02 5.01818180e-01\n",
      " 6.19395450e-02 4.24898602e-02 2.20845625e-01 5.82457006e-01\n",
      " 8.49753797e-01 5.36659127e-03 9.94992815e-03 5.14132738e-01\n",
      " 5.87354183e-01 7.45614648e-01 2.59459138e-01 1.04387462e-01\n"
     ]
    },
    {
     "name": "stdout",
     "output_type": "stream",
     "text": [
      " 4.46524501e-01 4.31340367e-01] [[[ 3.99671175  0.49382045]\n",
      "  [ 3.33690594  0.49386406]\n",
      "  [ 2.8756792   0.49127113]\n",
      "  ...\n",
      "  [ 1.17568129  0.71887562]\n",
      "  [ 9.01318149  0.71657284]\n",
      "  [ 1.91163145  0.72139644]]\n",
      "\n",
      " [[ 3.42978333  1.92128223]\n",
      "  [ 3.40752478  1.92159492]\n",
      "  [ 3.41797006  1.9221042 ]\n",
      "  ...\n",
      "  [-1.49663212 -0.47721783]\n",
      "  [-1.45326414 -0.48332917]\n",
      "  [-1.29510142 -0.48723797]]\n",
      "\n",
      " [[ 7.26572373  0.2808922 ]\n",
      "  [ 7.03515537  0.28464161]\n",
      "  [ 6.63005897  0.28406711]\n",
      "  ...\n",
      "  [-1.33817525 -0.22713601]\n",
      "  [-0.26273059 -0.22860195]\n",
      "  [ 0.31322047 -0.23040404]]\n",
      "\n",
      " ...\n",
      "\n",
      " [[-3.31891675 -0.41757285]\n",
      "  [-2.72808598 -0.41787185]\n",
      "  [-2.55466399 -0.41498348]\n",
      "  ...\n",
      "  [ 0.23802805 -0.71259654]\n",
      "  [ 0.77563622 -0.7141394 ]\n",
      "  [ 1.02919113 -0.714259  ]]\n",
      "\n",
      " [[ 0.52981578  0.04694069]\n",
      "  [ 0.50048279  0.04676194]\n",
      "  [ 0.31312846  0.04728189]\n",
      "  ...\n",
      "  [ 0.02163182  0.01173117]\n",
      "  [ 0.03156226  0.00979804]\n",
      "  [ 0.15419048  0.00905224]]\n",
      "\n",
      " [[ 3.78931605  0.39318149]\n",
      "  [ 3.43114208  0.39469584]\n",
      "  [ 3.21543862  0.40066107]\n",
      "  ...\n",
      "  [-0.3654449   0.32862021]\n",
      "  [-0.10786389  0.33434503]\n",
      "  [ 0.12936774  0.33805141]]]\n"
     ]
    }
   ],
   "source": [
    "non_idx = np.where(y_test[:,0] == 0.)[0]\n",
    "yes_idx = np.where(y_test[:,0] == 1.)[0]\n",
    "y_hat = model.predict(x_test)[:,0]\n"
   ]
  },
  {
   "cell_type": "code",
   "execution_count": 12,
   "metadata": {
    "_cell_guid": "5f37a9af-ceab-8b5a-3f77-fefd6eb38710",
    "_execution_state": "idle",
    "_uuid": "4b002ba89846d5f0c25fd29466c9ceb4801fc7e5"
   },
   "outputs": [
    {
     "data": {
      "image/png": "[encoded data removed]",
      "text/plain": [
       "<matplotlib.figure.Figure at 0x7f4341d0cda0>"
      ]
     },
     "metadata": {},
     "output_type": "display_data"
    },
    {
     "data": {
      "image/png": "[encoded data removed]",
      "text/plain": [
       "<matplotlib.figure.Figure at 0x7f434108d3c8>"
      ]
     },
     "metadata": {},
     "output_type": "display_data"
    }
   ],
   "source": [
    "plt.plot([y_hat[i] for i in yes_idx], 'bo')\n",
    "plt.show()\n",
    "plt.plot([y_hat[i] for i in non_idx], 'ro')\n",
    "plt.show()"
   ]
  },
  {
   "cell_type": "markdown",
   "metadata": {
    "_execution_state": "idle",
    "_uuid": "ffabc4d6783302adc67cf15ac6ca038030ff8842"
   },
   "source": [
    "These graphs show that the five positive examples all get 0.95-1.00 score. Also, almost all negative examples get score close to zero, except a few in the 0.9-1.0 range. This is encouraging."
   ]
  },
  {
   "cell_type": "markdown",
   "metadata": {
    "_execution_state": "idle",
    "_uuid": "088fa46309212bf4a02766ea44e918d561643718"
   },
   "source": [
    "We now choose an optimal cutoff score for classification. Sklearn can help us with this."
   ]
  },
  {
   "cell_type": "code",
   "execution_count": 19,
   "metadata": {
    "_cell_guid": "3d10d764-1a5f-7315-ea45-9e9481261ea4",
    "_execution_state": "busy",
    "_uuid": "38e7322f333dc2afa38186f208e5b96f4bd83fb9"
   },
   "outputs": [
    {
     "data": {
      "image/png": "[encoded data removed]",
      "text/plain": [
       "<Figure size 640x480 with 1 Axes>"
      ]
     },
     "metadata": {},
     "output_type": "display_data"
    },
    {
     "name": "stdout",
     "output_type": "stream",
     "text": [
      "Crossover at 0.61 with specificity 0.81\n"
     ]
    },
    {
     "data": {
      "image/png": "[encoded data removed]",
      "text/plain": [
       "<Figure size 640x480 with 1 Axes>"
      ]
     },
     "metadata": {},
     "output_type": "display_data"
    },
    {
     "name": "stdout",
     "output_type": "stream",
     "text": [
      "ROC area under curve is 0.92\n"
     ]
    }
   ],
   "source": [
    "from sklearn.metrics import confusion_matrix, precision_score\n",
    "y_true = (y_test[:, 0] + 0.5).astype(\"int\")\n",
    "fpr, tpr, thresholds = roc_curve(y_true, y_hat)\n",
    "plt.plot(thresholds, 1.-fpr)\n",
    "plt.plot(thresholds, tpr)\n",
    "plt.show()\n",
    "crossover_index = np.min(np.where(1.-fpr <= tpr))\n",
    "crossover_cutoff = thresholds[crossover_index]\n",
    "crossover_specificity = 1.-fpr[crossover_index]\n",
    "print(\"Crossover at {0:.2f} with specificity {1:.2f}\".format(crossover_cutoff, crossover_specificity))\n",
    "plt.plot(fpr, tpr)\n",
    "plt.show()\n",
    "print(\"ROC area under curve is {0:.2f}\".format(roc_auc_score(y_true, y_hat)))\n",
    "\n",
    "precision_score(y_true, y_hat)"
   ]
  },
  {
   "cell_type": "markdown",
   "metadata": {
    "_cell_guid": "67e27578-3029-3e51-448f-bc2b7a8f24ab",
    "_uuid": "d15012aa5570172dee9f99f79dc962a06aedd63c"
   },
   "source": [
    "Let's take a look at the misclassified data (if any):"
   ]
  },
  {
   "cell_type": "code",
   "execution_count": 14,
   "metadata": {
    "_cell_guid": "28f895b0-597b-4f46-1a7f-7377d97ade05",
    "_execution_state": "idle",
    "_uuid": "ce60fdc5bcf2b2d08f68c22d581116383d6b6c45"
   },
   "outputs": [
    {
     "name": "stdout",
     "output_type": "stream",
     "text": [
      "124\n"
     ]
    },
    {
     "data": {
      "image/png": "[encoded data removed]",
      "text/plain": [
       "<matplotlib.figure.Figure at 0x7f4340c70080>"
      ]
     },
     "metadata": {},
     "output_type": "display_data"
    },
    {
     "name": "stdout",
     "output_type": "stream",
     "text": [
      "347\n"
     ]
    },
    {
     "data": {
      "image/png": "[encoded data removed]",
      "text/plain": [
       "<matplotlib.figure.Figure at 0x7f4341014240>"
      ]
     },
     "metadata": {},
     "output_type": "display_data"
    },
    {
     "name": "stdout",
     "output_type": "stream",
     "text": [
      "372\n"
     ]
    },
    {
     "data": {
      "image/png": "[encoded data removed]",
      "text/plain": [
       "<matplotlib.figure.Figure at 0x7f43410c3ba8>"
      ]
     },
     "metadata": {},
     "output_type": "display_data"
    }
   ],
   "source": [
    "false_positives = np.where(y_hat * (1. - y_test) > 0.5)[0]\n",
    "for i in non_idx:\n",
    "    if y_hat[i] > crossover_cutoff:\n",
    "        print(i)\n",
    "        plt.plot(x_test[i])\n",
    "        plt.show()"
   ]
  },
  {
   "cell_type": "markdown",
   "metadata": {
    "_cell_guid": "3c3c8bbf-9638-8f4f-050e-695a66a8b84a",
    "_uuid": "84ee7f7a1f17f0c2d5f309fa957a0cb8bbcd38ba"
   },
   "source": [
    "It seems NASA missed one planet. I take this opportunity to claim it, and hereby name it Kaggle alpha :)"
   ]
  },
  {
   "cell_type": "code",
   "execution_count": 15,
   "metadata": {
    "_cell_guid": "0bebfd57-3ff5-90d1-79a2-4fb500116cc6",
    "_execution_state": "idle",
    "_uuid": "0e60c2111bc64417f9320ecb5f6adab298423606"
   },
   "outputs": [],
   "source": []
  }
 ],
 "metadata": {
  "_change_revision": 0,
  "_is_fork": false,
  "kernelspec": {
   "display_name": "Python 3 (ipykernel)",
   "language": "python",
   "name": "python3"
  },
  "language_info": {
   "codemirror_mode": {
    "name": "ipython",
    "version": 3
   },
   "file_extension": ".py",
   "mimetype": "text/x-python",
   "name": "python",
   "nbconvert_exporter": "python",
   "pygments_lexer": "ipython3",
   "version": "3.9.12"
  }
 },
 "nbformat": 4,
 "nbformat_minor": 1
}
