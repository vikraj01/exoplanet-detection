{
 "cells": [
  {
   "cell_type": "code",
   "execution_count": 1,
   "id": "568b1ca1",
   "metadata": {},
   "outputs": [
    {
     "name": "stdout",
     "output_type": "stream",
     "text": [
      "Loading datasets...\n",
      "Applying Fourier...\n",
      "Finished Processing!\n",
      "Training...\n"
     ]
    },
    {
     "name": "stderr",
     "output_type": "stream",
     "text": [
      "C:\\Users\\vikas\\Desktop\\exoplanet\\env\\lib\\site-packages\\sklearn\\svm\\_base.py:297: ConvergenceWarning: Solver terminated early (max_iter=10000).  Consider pre-processing your data with StandardScaler or MinMaxScaler.\n",
      "  warnings.warn(\n"
     ]
    },
    {
     "name": "stdout",
     "output_type": "stream",
     "text": [
      "Finished training!\n",
      "\n",
      "Making predictions..\n",
      "Finished predictions!\n"
     ]
    }
   ],
   "source": [
    "import pandas as pd\n",
    "import numpy as np\n",
    "from scipy import fft\n",
    "from sklearn.svm import SVC\n",
    "from sklearn.metrics import average_precision_score\n",
    "from sklearn.preprocessing import normalize\n",
    "\n",
    "class LightFluxProcessor:\n",
    "    def __init__(self, fourier=True, normalize=True):\n",
    "        self.fourier = fourier\n",
    "        self.normalize = normalize\n",
    "\n",
    "    def process(self, X, Xd):\n",
    "        if self.normalize:\n",
    "            print(\"Normalizing...\")\n",
    "            X = normalize(X)\n",
    "            Xd = normalize(Xd)\n",
    "\n",
    "        if self.fourier:\n",
    "            print(\"Applying Fourier...\")\n",
    "            X = np.abs(fft.fft(X))\n",
    "            Xd = np.abs(fft.fft(Xd))\n",
    "\n",
    "            X = X[:, :(X.shape[1] // 2)]\n",
    "            Xd = Xd[:, :(Xd.shape[1] // 2)]\n",
    "\n",
    "        print(\"Finished Processing!\")\n",
    "        return X, Xd\n",
    "\n",
    "def main():\n",
    "    print(\"Loading datasets...\")\n",
    "    df_train = pd.read_csv(\"Data/exoTrain.csv\", encoding = \"ISO-8859-1\")\n",
    "    df_test = pd.read_csv(\"Data/exoTest.csv\", encoding = \"ISO-8859-1\")\n",
    "\n",
    "    X_train = np.array(df_train.drop('LABEL', axis=1))\n",
    "    Y_train = np.array(df_train.LABEL) - 1\n",
    "    X_test = np.array(df_test.drop('LABEL', axis=1))\n",
    "    Y_test = np.array(df_test.LABEL) - 1\n",
    "\n",
    "    LFP = LightFluxProcessor(fourier=True, normalize=False)\n",
    "    X_train, X_test = LFP.process(X_train, X_test)\n",
    "\n",
    "    model = SVC(kernel='linear', gamma='scale', class_weight='balanced', probability=True, max_iter=10000)\n",
    "    print(\"Training...\")\n",
    "    model.fit(X_train, Y_train)\n",
    "    print(\"Finished training!\")\n",
    "    print('')\n",
    "    print(\"Making predictions..\")\n",
    "    train_outputs = model.predict(X_train)\n",
    "    test_outputs = model.predict(X_test)\n",
    "\n",
    "    train_prob = model.predict_proba(X_train)[:, 1]\n",
    "    test_prob = model.predict_proba(X_test)[:, 1]\n",
    "    print(\"Finished predictions!\")\n",
    "\n",
    "    ap_train = average_precision_score(Y_train, train_prob)\n",
    "    ap_test = average_precision_score(Y_test, test_prob)\n",
    "main()"
   ]
  },
  {
   "cell_type": "code",
   "execution_count": 7,
   "id": "a6878819",
   "metadata": {},
   "outputs": [
    {
     "name": "stdout",
     "output_type": "stream",
     "text": [
      "Loading datasets...\n",
      "Augmenting training data...\n"
     ]
    },
    {
     "ename": "InvalidIndexError",
     "evalue": "(slice(None, None, None), slice(None, None, -1))",
     "output_type": "error",
     "traceback": [
      "\u001b[1;31m---------------------------------------------------------------------------\u001b[0m",
      "\u001b[1;31mTypeError\u001b[0m                                 Traceback (most recent call last)",
      "File \u001b[1;32m~\\Desktop\\exoplanet\\env\\lib\\site-packages\\pandas\\core\\indexes\\base.py:3790\u001b[0m, in \u001b[0;36mIndex.get_loc\u001b[1;34m(self, key)\u001b[0m\n\u001b[0;32m   3789\u001b[0m \u001b[38;5;28;01mtry\u001b[39;00m:\n\u001b[1;32m-> 3790\u001b[0m     \u001b[38;5;28;01mreturn\u001b[39;00m \u001b[38;5;28;43mself\u001b[39;49m\u001b[38;5;241;43m.\u001b[39;49m\u001b[43m_engine\u001b[49m\u001b[38;5;241;43m.\u001b[39;49m\u001b[43mget_loc\u001b[49m\u001b[43m(\u001b[49m\u001b[43mcasted_key\u001b[49m\u001b[43m)\u001b[49m\n\u001b[0;32m   3791\u001b[0m \u001b[38;5;28;01mexcept\u001b[39;00m \u001b[38;5;167;01mKeyError\u001b[39;00m \u001b[38;5;28;01mas\u001b[39;00m err:\n",
      "File \u001b[1;32mindex.pyx:152\u001b[0m, in \u001b[0;36mpandas._libs.index.IndexEngine.get_loc\u001b[1;34m()\u001b[0m\n",
      "File \u001b[1;32mindex.pyx:158\u001b[0m, in \u001b[0;36mpandas._libs.index.IndexEngine.get_loc\u001b[1;34m()\u001b[0m\n",
      "\u001b[1;31mTypeError\u001b[0m: '(slice(None, None, None), slice(None, None, -1))' is an invalid key",
      "\nDuring handling of the above exception, another exception occurred:\n",
      "\u001b[1;31mInvalidIndexError\u001b[0m                         Traceback (most recent call last)",
      "Cell \u001b[1;32mIn[7], line 64\u001b[0m\n\u001b[0;32m     61\u001b[0m     X_train, y_train, X_test, y_test \u001b[38;5;241m=\u001b[39m preprocess_data(X_train, y_train, X_test, y_test)\n\u001b[0;32m     62\u001b[0m     train_and_evaluate_model(X_train, y_train, X_test, y_test)\n\u001b[1;32m---> 64\u001b[0m \u001b[43mmain\u001b[49m\u001b[43m(\u001b[49m\u001b[43m)\u001b[49m\n",
      "Cell \u001b[1;32mIn[7], line 61\u001b[0m, in \u001b[0;36mmain\u001b[1;34m()\u001b[0m\n\u001b[0;32m     58\u001b[0m testSetPath \u001b[38;5;241m=\u001b[39m \u001b[38;5;124m\"\u001b[39m\u001b[38;5;124mData/exoTest.csv\u001b[39m\u001b[38;5;124m\"\u001b[39m\n\u001b[0;32m     60\u001b[0m X_train, y_train, X_test, y_test \u001b[38;5;241m=\u001b[39m load_data(trainSetPath, testSetPath)\n\u001b[1;32m---> 61\u001b[0m X_train, y_train, X_test, y_test \u001b[38;5;241m=\u001b[39m \u001b[43mpreprocess_data\u001b[49m\u001b[43m(\u001b[49m\u001b[43mX_train\u001b[49m\u001b[43m,\u001b[49m\u001b[43m \u001b[49m\u001b[43my_train\u001b[49m\u001b[43m,\u001b[49m\u001b[43m \u001b[49m\u001b[43mX_test\u001b[49m\u001b[43m,\u001b[49m\u001b[43m \u001b[49m\u001b[43my_test\u001b[49m\u001b[43m)\u001b[49m\n\u001b[0;32m     62\u001b[0m train_and_evaluate_model(X_train, y_train, X_test, y_test)\n",
      "Cell \u001b[1;32mIn[7], line 40\u001b[0m, in \u001b[0;36mpreprocess_data\u001b[1;34m(X_train, y_train, X_test, y_test, augment_train, augment_test)\u001b[0m\n\u001b[0;32m     38\u001b[0m \u001b[38;5;28;01mif\u001b[39;00m augment_train:\n\u001b[0;32m     39\u001b[0m     \u001b[38;5;28mprint\u001b[39m(\u001b[38;5;124m\"\u001b[39m\u001b[38;5;124mAugmenting training data...\u001b[39m\u001b[38;5;124m\"\u001b[39m)\n\u001b[1;32m---> 40\u001b[0m     extra \u001b[38;5;241m=\u001b[39m \u001b[43mnp\u001b[49m\u001b[38;5;241;43m.\u001b[39;49m\u001b[43mflip\u001b[49m\u001b[43m(\u001b[49m\u001b[43mX_train\u001b[49m\u001b[43m,\u001b[49m\u001b[43m \u001b[49m\u001b[43maxis\u001b[49m\u001b[38;5;241;43m=\u001b[39;49m\u001b[38;5;241;43m-\u001b[39;49m\u001b[38;5;241;43m1\u001b[39;49m\u001b[43m)\u001b[49m\n\u001b[0;32m     41\u001b[0m     X_train \u001b[38;5;241m=\u001b[39m np\u001b[38;5;241m.\u001b[39mconcatenate((X_train, extra), axis\u001b[38;5;241m=\u001b[39m\u001b[38;5;241m0\u001b[39m)\n\u001b[0;32m     42\u001b[0m     y_train \u001b[38;5;241m=\u001b[39m np\u001b[38;5;241m.\u001b[39mconcatenate((y_train, y_train), axis\u001b[38;5;241m=\u001b[39m\u001b[38;5;241m0\u001b[39m)\n",
      "File \u001b[1;32m~\\Desktop\\exoplanet\\env\\lib\\site-packages\\numpy\\lib\\function_base.py:345\u001b[0m, in \u001b[0;36mflip\u001b[1;34m(m, axis)\u001b[0m\n\u001b[0;32m    343\u001b[0m         indexer[ax] \u001b[38;5;241m=\u001b[39m np\u001b[38;5;241m.\u001b[39ms_[::\u001b[38;5;241m-\u001b[39m\u001b[38;5;241m1\u001b[39m]\n\u001b[0;32m    344\u001b[0m     indexer \u001b[38;5;241m=\u001b[39m \u001b[38;5;28mtuple\u001b[39m(indexer)\n\u001b[1;32m--> 345\u001b[0m \u001b[38;5;28;01mreturn\u001b[39;00m \u001b[43mm\u001b[49m\u001b[43m[\u001b[49m\u001b[43mindexer\u001b[49m\u001b[43m]\u001b[49m\n",
      "File \u001b[1;32m~\\Desktop\\exoplanet\\env\\lib\\site-packages\\pandas\\core\\frame.py:3896\u001b[0m, in \u001b[0;36mDataFrame.__getitem__\u001b[1;34m(self, key)\u001b[0m\n\u001b[0;32m   3894\u001b[0m \u001b[38;5;28;01mif\u001b[39;00m \u001b[38;5;28mself\u001b[39m\u001b[38;5;241m.\u001b[39mcolumns\u001b[38;5;241m.\u001b[39mnlevels \u001b[38;5;241m>\u001b[39m \u001b[38;5;241m1\u001b[39m:\n\u001b[0;32m   3895\u001b[0m     \u001b[38;5;28;01mreturn\u001b[39;00m \u001b[38;5;28mself\u001b[39m\u001b[38;5;241m.\u001b[39m_getitem_multilevel(key)\n\u001b[1;32m-> 3896\u001b[0m indexer \u001b[38;5;241m=\u001b[39m \u001b[38;5;28;43mself\u001b[39;49m\u001b[38;5;241;43m.\u001b[39;49m\u001b[43mcolumns\u001b[49m\u001b[38;5;241;43m.\u001b[39;49m\u001b[43mget_loc\u001b[49m\u001b[43m(\u001b[49m\u001b[43mkey\u001b[49m\u001b[43m)\u001b[49m\n\u001b[0;32m   3897\u001b[0m \u001b[38;5;28;01mif\u001b[39;00m is_integer(indexer):\n\u001b[0;32m   3898\u001b[0m     indexer \u001b[38;5;241m=\u001b[39m [indexer]\n",
      "File \u001b[1;32m~\\Desktop\\exoplanet\\env\\lib\\site-packages\\pandas\\core\\indexes\\base.py:3802\u001b[0m, in \u001b[0;36mIndex.get_loc\u001b[1;34m(self, key)\u001b[0m\n\u001b[0;32m   3797\u001b[0m     \u001b[38;5;28;01mraise\u001b[39;00m \u001b[38;5;167;01mKeyError\u001b[39;00m(key) \u001b[38;5;28;01mfrom\u001b[39;00m \u001b[38;5;21;01merr\u001b[39;00m\n\u001b[0;32m   3798\u001b[0m \u001b[38;5;28;01mexcept\u001b[39;00m \u001b[38;5;167;01mTypeError\u001b[39;00m:\n\u001b[0;32m   3799\u001b[0m     \u001b[38;5;66;03m# If we have a listlike key, _check_indexing_error will raise\u001b[39;00m\n\u001b[0;32m   3800\u001b[0m     \u001b[38;5;66;03m#  InvalidIndexError. Otherwise we fall through and re-raise\u001b[39;00m\n\u001b[0;32m   3801\u001b[0m     \u001b[38;5;66;03m#  the TypeError.\u001b[39;00m\n\u001b[1;32m-> 3802\u001b[0m     \u001b[38;5;28;43mself\u001b[39;49m\u001b[38;5;241;43m.\u001b[39;49m\u001b[43m_check_indexing_error\u001b[49m\u001b[43m(\u001b[49m\u001b[43mkey\u001b[49m\u001b[43m)\u001b[49m\n\u001b[0;32m   3803\u001b[0m     \u001b[38;5;28;01mraise\u001b[39;00m\n",
      "File \u001b[1;32m~\\Desktop\\exoplanet\\env\\lib\\site-packages\\pandas\\core\\indexes\\base.py:5974\u001b[0m, in \u001b[0;36mIndex._check_indexing_error\u001b[1;34m(self, key)\u001b[0m\n\u001b[0;32m   5970\u001b[0m \u001b[38;5;28;01mdef\u001b[39;00m \u001b[38;5;21m_check_indexing_error\u001b[39m(\u001b[38;5;28mself\u001b[39m, key):\n\u001b[0;32m   5971\u001b[0m     \u001b[38;5;28;01mif\u001b[39;00m \u001b[38;5;129;01mnot\u001b[39;00m is_scalar(key):\n\u001b[0;32m   5972\u001b[0m         \u001b[38;5;66;03m# if key is not a scalar, directly raise an error (the code below\u001b[39;00m\n\u001b[0;32m   5973\u001b[0m         \u001b[38;5;66;03m# would convert to numpy arrays and raise later any way) - GH29926\u001b[39;00m\n\u001b[1;32m-> 5974\u001b[0m         \u001b[38;5;28;01mraise\u001b[39;00m InvalidIndexError(key)\n",
      "\u001b[1;31mInvalidIndexError\u001b[0m: (slice(None, None, None), slice(None, None, -1))"
     ]
    }
   ],
   "source": [
    "\n",
    "\n",
    "class LightFluxProcessor:\n",
    "    def __init__(self, fourier=True, normalize=True):\n",
    "        self.fourier = fourier\n",
    "        self.normalize = normalize\n",
    "\n",
    "    def process(self, X):\n",
    "        if self.normalize:\n",
    "            print(\"Normalizing data...\")\n",
    "            X = StandardScaler().fit_transform(X)\n",
    "\n",
    "        if self.fourier:\n",
    "            print(\"Applying Fourier transformation...\")\n",
    "            X = np.abs(np.fft.fft(X, axis=1))[:, :X.shape[1] // 2]\n",
    "\n",
    "        print(\"Finished processing data!\")\n",
    "        return X\n",
    "\n",
    "def load_data(train_path, test_path):\n",
    "    print(\"Loading datasets...\")\n",
    "    df_train = pd.read_csv(train_path, encoding=\"ISO-8859-1\")\n",
    "    df_test = pd.read_csv(test_path, encoding=\"ISO-8859-1\")\n",
    "\n",
    "    X_train = df_train.drop('LABEL', axis=1)\n",
    "    y_train = df_train['LABEL'] - 1  # Map labels to 0 and 1\n",
    "    X_test = df_test.drop('LABEL', axis=1)\n",
    "    y_test = df_test['LABEL'] - 1\n",
    "\n",
    "    return X_train, y_train, X_test, y_test\n",
    "\n",
    "def preprocess_data(X_train, y_train, X_test, y_test, augment_train=True, augment_test=True):\n",
    "    if augment_train:\n",
    "        print(\"Augmenting training data...\")\n",
    "        extra = np.flip(X_train, axis=-1)\n",
    "        X_train = np.concatenate((X_train, extra), axis=0)\n",
    "        y_train = np.concatenate((y_train, y_train), axis=0)\n",
    "\n",
    "    if augment_test:\n",
    "        print(\"Augmenting test data...\")\n",
    "        dextra = np.flip(X_test, axis=-1)\n",
    "        X_test = np.concatenate((X_test, dextra), axis=0)\n",
    "        y_test = np.concatenate((y_test, y_test), axis=0)\n",
    "\n",
    "    lfp = LightFluxProcessor()\n",
    "    X_train = lfp.process(X_train)\n",
    "    X_test = lfp.process(X_test)\n",
    "\n",
    "    return X_train, y_train, X_test, y_test\n",
    "\n",
    "def main():\n",
    "    trainSetPath = \"Data/exoTrain.csv\"\n",
    "    testSetPath = \"Data/exoTest.csv\"\n",
    "\n",
    "    X_train, y_train, X_test, y_test = load_data(trainSetPath, testSetPath)\n",
    "    X_train, y_train, X_test, y_test = preprocess_data(X_train, y_train, X_test, y_test)\n",
    "    train_and_evaluate_model(X_train, y_train, X_test, y_test)\n",
    "\n",
    "main()\n"
   ]
  },
  {
   "cell_type": "code",
   "execution_count": null,
   "id": "fc772266",
   "metadata": {},
   "outputs": [],
   "source": []
  }
 ],
 "metadata": {
  "kernelspec": {
   "display_name": "Python 3 (ipykernel)",
   "language": "python",
   "name": "python3"
  },
  "language_info": {
   "codemirror_mode": {
    "name": "ipython",
    "version": 3
   },
   "file_extension": ".py",
   "mimetype": "text/x-python",
   "name": "python",
   "nbconvert_exporter": "python",
   "pygments_lexer": "ipython3",
   "version": "3.10.13"
  }
 },
 "nbformat": 4,
 "nbformat_minor": 5
}
