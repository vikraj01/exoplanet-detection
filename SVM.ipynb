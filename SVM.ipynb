{
 "cells": [
  {
   "cell_type": "code",
   "execution_count": 1,
   "id": "5097a0c6",
   "metadata": {},
   "outputs": [],
   "source": [
    "import pandas as pd\n",
    "import numpy as np\n",
    "import matplotlib.pyplot as plt"
   ]
  },
  {
   "cell_type": "code",
   "execution_count": 2,
   "id": "f87d6b3d",
   "metadata": {},
   "outputs": [],
   "source": [
    "from scipy import fft, integrate\n",
    "from sklearn.svm import LinearSVC, SVC\n",
    "from sklearn.calibration import CalibratedClassifierCV\n",
    "from sklearn.metrics import accuracy_score, precision_score, f1_score,\\\n",
    "                recall_score, confusion_matrix, fbeta_score, auc,\\\n",
    "                  precision_recall_curve, average_precision_score\n",
    "from inspect import signature"
   ]
  },
  {
   "cell_type": "code",
   "execution_count": 3,
   "id": "871ba15d",
   "metadata": {},
   "outputs": [],
   "source": [
    "from sklearn.preprocessing import normalize, StandardScaler, MinMaxScaler"
   ]
  },
  {
   "cell_type": "code",
   "execution_count": 4,
   "id": "6462dad2",
   "metadata": {},
   "outputs": [],
   "source": [
    "import pandas as pd\n",
    "import numpy as np\n",
    "from scipy import ndimage\n",
    "from sklearn.preprocessing import StandardScaler, normalize\n",
    "\n",
    "class LightFluxProcessor:\n",
    "\n",
    "    def __init__(self, fourier=True, normalize=True, gaussian=True, standardize=True):\n",
    "        self.fourier = fourier\n",
    "        self.normalize = normalize\n",
    "        self.gaussian = gaussian\n",
    "        self.standardize = standardize\n",
    "\n",
    "    def fourier_transform(self, X):\n",
    "        return np.abs(np.fft.fft(X, n=X.size))\n",
    "\n",
    "    def process(self, df_train_x, df_dev_x):\n",
    "        # Apply fourier transform\n",
    "        if self.fourier:\n",
    "            print(\"Applying Fourier...\")\n",
    "            df_train_x = np.apply_along_axis(self.fourier_transform, axis=1, arr=df_train_x)\n",
    "            df_dev_x = np.apply_along_axis(self.fourier_transform, axis=1, arr=df_dev_x)\n",
    "\n",
    "            # Keep the first half of data as it is symmetrical after the previous steps\n",
    "            df_train_x = df_train_x[:, :(df_train_x.shape[1] // 2)]\n",
    "            df_dev_x = df_dev_x[:, :(df_dev_x.shape[1] // 2)]\n",
    "\n",
    "        # Normalize\n",
    "        if self.normalize:\n",
    "            print(\"Normalizing...\")\n",
    "            df_train_x = normalize(df_train_x)\n",
    "            df_dev_x = normalize(df_dev_x)\n",
    "\n",
    "        # Gaussian filter to smooth out data\n",
    "        if self.gaussian:\n",
    "            print(\"Applying Gaussian Filter...\")\n",
    "            df_train_x = ndimage.filters.gaussian_filter(df_train_x, sigma=10)\n",
    "            df_dev_x = ndimage.filters.gaussian_filter(df_dev_x, sigma=10)\n",
    "\n",
    "        if self.standardize:\n",
    "            # Standardize X data\n",
    "            print(\"Standardizing...\")\n",
    "            std_scaler = StandardScaler()\n",
    "            df_train_x = std_scaler.fit_transform(df_train_x)\n",
    "            df_dev_x = std_scaler.transform(df_dev_x)\n",
    "\n",
    "        print(\"Finished Processing!\")\n",
    "        return df_train_x, df_dev_x\n",
    "\n",
    "\n"
   ]
  },
  {
   "cell_type": "code",
   "execution_count": 7,
   "id": "e43b941a",
   "metadata": {},
   "outputs": [
    {
     "name": "stdout",
     "output_type": "stream",
     "text": [
      "Loading datasets...\n",
      "Applying Fourier...\n",
      "Applying Gaussian Filter...\n"
     ]
    },
    {
     "name": "stderr",
     "output_type": "stream",
     "text": [
      "C:\\Users\\vikas\\AppData\\Local\\Temp\\ipykernel_20952\\1388030299.py:37: DeprecationWarning: Please use `gaussian_filter` from the `scipy.ndimage` namespace, the `scipy.ndimage.filters` namespace is deprecated.\n",
      "  df_train_x = ndimage.filters.gaussian_filter(df_train_x, sigma=10)\n",
      "C:\\Users\\vikas\\AppData\\Local\\Temp\\ipykernel_20952\\1388030299.py:38: DeprecationWarning: Please use `gaussian_filter` from the `scipy.ndimage` namespace, the `scipy.ndimage.filters` namespace is deprecated.\n",
      "  df_dev_x = ndimage.filters.gaussian_filter(df_dev_x, sigma=10)\n",
      "C:\\Users\\vikas\\Desktop\\exoplanet\\env\\lib\\site-packages\\sklearn\\svm\\_classes.py:32: FutureWarning: The default value of `dual` will change from `True` to `'auto'` in 1.5. Set the value of `dual` explicitly to suppress the warning.\n",
      "  warnings.warn(\n"
     ]
    },
    {
     "name": "stdout",
     "output_type": "stream",
     "text": [
      "Finished Processing!\n",
      "Training...\n"
     ]
    },
    {
     "name": "stderr",
     "output_type": "stream",
     "text": [
      "C:\\Users\\vikas\\Desktop\\exoplanet\\env\\lib\\site-packages\\sklearn\\svm\\_base.py:1250: ConvergenceWarning: Liblinear failed to converge, increase the number of iterations.\n",
      "  warnings.warn(\n",
      "C:\\Users\\vikas\\Desktop\\exoplanet\\env\\lib\\site-packages\\sklearn\\svm\\_classes.py:32: FutureWarning: The default value of `dual` will change from `True` to `'auto'` in 1.5. Set the value of `dual` explicitly to suppress the warning.\n",
      "  warnings.warn(\n",
      "C:\\Users\\vikas\\Desktop\\exoplanet\\env\\lib\\site-packages\\sklearn\\svm\\_base.py:1250: ConvergenceWarning: Liblinear failed to converge, increase the number of iterations.\n",
      "  warnings.warn(\n",
      "C:\\Users\\vikas\\Desktop\\exoplanet\\env\\lib\\site-packages\\sklearn\\svm\\_classes.py:32: FutureWarning: The default value of `dual` will change from `True` to `'auto'` in 1.5. Set the value of `dual` explicitly to suppress the warning.\n",
      "  warnings.warn(\n",
      "C:\\Users\\vikas\\Desktop\\exoplanet\\env\\lib\\site-packages\\sklearn\\svm\\_base.py:1250: ConvergenceWarning: Liblinear failed to converge, increase the number of iterations.\n",
      "  warnings.warn(\n",
      "C:\\Users\\vikas\\Desktop\\exoplanet\\env\\lib\\site-packages\\sklearn\\svm\\_classes.py:32: FutureWarning: The default value of `dual` will change from `True` to `'auto'` in 1.5. Set the value of `dual` explicitly to suppress the warning.\n",
      "  warnings.warn(\n",
      "C:\\Users\\vikas\\Desktop\\exoplanet\\env\\lib\\site-packages\\sklearn\\svm\\_base.py:1250: ConvergenceWarning: Liblinear failed to converge, increase the number of iterations.\n",
      "  warnings.warn(\n",
      "C:\\Users\\vikas\\Desktop\\exoplanet\\env\\lib\\site-packages\\sklearn\\svm\\_classes.py:32: FutureWarning: The default value of `dual` will change from `True` to `'auto'` in 1.5. Set the value of `dual` explicitly to suppress the warning.\n",
      "  warnings.warn(\n",
      "C:\\Users\\vikas\\Desktop\\exoplanet\\env\\lib\\site-packages\\sklearn\\svm\\_base.py:1250: ConvergenceWarning: Liblinear failed to converge, increase the number of iterations.\n",
      "  warnings.warn(\n"
     ]
    },
    {
     "name": "stdout",
     "output_type": "stream",
     "text": [
      "Finished training!\n",
      "\n",
      "Making predictions..\n",
      "Finished predictions!\n"
     ]
    },
    {
     "data": {
      "image/png": "[encoded data removed]",
      "text/plain": [
       "<Figure size 640x480 with 1 Axes>"
      ]
     },
     "metadata": {},
     "output_type": "display_data"
    },
    {
     "name": "stdout",
     "output_type": "stream",
     "text": [
      "AUC training set: 0.700\n",
      "AUC test set: 0.048\n",
      "Accuracy training set: 0.986\n",
      "Accuracy test set: 0.963\n",
      "Precision training set: 0.000\n",
      "Precision test set: 0.000\n",
      "Recall training set: 0.000\n",
      "Recall test set: 0.000\n",
      "F1 score training set: 0.000\n",
      "F1 score test set: 0.000\n",
      " \n",
      "Confusion Matrix - Train Set\n",
      "[[5050    0]\n",
      " [  74    0]]\n",
      "Confusion Matrix - Test Set\n",
      "[[554  11]\n",
      " [ 10   0]]\n"
     ]
    },
    {
     "name": "stderr",
     "output_type": "stream",
     "text": [
      "C:\\Users\\vikas\\Desktop\\exoplanet\\env\\lib\\site-packages\\sklearn\\metrics\\_classification.py:1471: UndefinedMetricWarning: Precision is ill-defined and being set to 0.0 due to no predicted samples. Use `zero_division` parameter to control this behavior.\n",
      "  _warn_prf(average, modifier, msg_start, len(result))\n"
     ]
    }
   ],
   "source": [
    "def main():\n",
    "    trainSetPath = \"Data/exoTrain.csv\"  # Loads datasets, requires a folder named \"datasets\"\n",
    "    testSetPath = \"Data/exoTest.csv\"    # containing the data files in your current folder\n",
    "    print(\"Loading datasets...\")\n",
    "    df_train = pd.read_csv(trainSetPath, encoding = \"ISO-8859-1\")\n",
    "    df_test = pd.read_csv(testSetPath, encoding = \"ISO-8859-1\")\n",
    "\n",
    "    # Generate X and Y dataframe set\n",
    "    df_train_x = df_train.drop('LABEL', axis=1) \n",
    "    df_test_x = df_test.drop('LABEL', axis=1)\n",
    "    df_train_y = df_train.LABEL\n",
    "    df_test_y = df_test.LABEL\n",
    "    \n",
    "    X_train = np.array(df_train_x)    #\n",
    "    Y_train = np.array(df_train_y)    # The raw input/output data for\n",
    "    X_test= np.array(df_test_x)     # both train and test sets as np.arrays\n",
    "    Y_test= np.array(df_test_y)     #\n",
    "\n",
    "    #Adding mirrored series\n",
    "    extra = np.flip(X_train[0:37,:], axis=-1)\n",
    "    extraY = Y_train[0:37]\n",
    "    X_train = np.append(X_train,extra, axis=0)\n",
    "    Y_train = np.append(Y_train,extraY,axis=0) #Kan vara bra att lägga till fler exempel för test-setet också\n",
    "    dextra = np.flip(X_test[0:5,:], axis=-1)\n",
    "    dextraY = Y_test[0:5]\n",
    "    X_test = np.append(X_test, dextra, axis=0)\n",
    "    Y_test = np.append(Y_test,dextraY,axis=0)\n",
    "\n",
    "    Y_train=Y_train-1       #\n",
    "    Y_test=Y_test-1     # To get postives to 1 and negatives to 0\n",
    "\n",
    "    # Process dataset - choose which should be used\n",
    "    LFP = LightFluxProcessor(\n",
    "        fourier=True,\n",
    "        normalize=False,             \n",
    "        gaussian=True,             \n",
    "        standardize=False)      \n",
    "    X_train, X_test = LFP.process(X_train, X_test)\n",
    "\n",
    "    #Normalization - gives better recall but worse precision\n",
    "    # X_train = ((X_train - np.mean(X_train, axis=1).reshape(-1,1)) / np.std(X_train, axis=1).reshape(-1,1))\n",
    "    # X_test = ((X_test - np.mean(X_test, axis=1).reshape(-1,1)) / np.std(X_test, axis=1).reshape(-1,1))\n",
    "\n",
    "\n",
    "    #TRAINING AND EVALUATING THE SVC\n",
    "    c_w = {0: 1,  #Directory for trying out different class weights\n",
    "          1: 1}      #Change to kernel=c_w to use\n",
    "\n",
    "    model=CalibratedClassifierCV(LinearSVC())\n",
    "    print(\"Training...\")\n",
    "    model.fit(X_train, Y_train)            # Choose which data to train on\n",
    "    print(\"Finished training!\")\n",
    "    print('')\n",
    "    print(\"Making predictions..\")\n",
    "    train_outputs=model.predict(X_train)     # Making predictions\n",
    "    test_outputs =model.predict(X_test)    #\n",
    "\n",
    "    train_prob = model.predict_proba(X_train)[:,1]\n",
    "    test_prob = model.predict_proba(X_test)[:,1]\n",
    "    print(\"Finished predictions!\")\n",
    "\n",
    "    #region Various metrics for performance\n",
    "    ap_train = average_precision_score(Y_train, train_prob)\n",
    "    ap_test = average_precision_score(Y_test, test_prob)\n",
    "\n",
    "    #Precision recall curve\n",
    "    precision, recall, thresholds = precision_recall_curve(Y_train,train_prob) #train\n",
    "    precision_d, recall_d, thresholds_d = precision_recall_curve(Y_test,test_prob) #test\n",
    "    # In matplotlib < 1.5, plt.fill_between does not have a 'step' argument\n",
    "    step_kwargs = ({'step': 'post'}\n",
    "                if 'step' in signature(plt.fill_between).parameters\n",
    "                else {})\n",
    "    plt.step(recall, precision, color='b', alpha=0.2,\n",
    "            where='post')\n",
    "    plt.fill_between(recall, precision, alpha=0.2, color='b', **step_kwargs)\n",
    "\n",
    "    plt.xlabel('Recall')\n",
    "    plt.ylabel('Precision')\n",
    "    plt.ylim([0.0, 1.05])\n",
    "    plt.xlim([0.0, 1.0])\n",
    "    plt.title('SVM: Precision-Recall Curve')\n",
    "    plt.show()\n",
    "\n",
    "    accuracy_train=accuracy_score(Y_train,train_outputs)\n",
    "    accuracy_test=accuracy_score(Y_test,test_outputs)\n",
    "    precision_train=precision_score(Y_train,train_outputs)\n",
    "    precision_test=precision_score(Y_test,test_outputs)\n",
    "    recall_train = recall_score(Y_train, train_outputs)\n",
    "    recall_test = recall_score(Y_test,test_outputs)\n",
    "    f1_train = f1_score(Y_train,train_outputs)\n",
    "    f1_test = f1_score(Y_test,test_outputs)\n",
    "\n",
    "    print(\"AUC training set: %.3f\" %ap_train )\n",
    "    print(\"AUC test set: %.3f\" %ap_test )\n",
    "    print(\"Accuracy training set: %.3f\" %accuracy_train)\n",
    "    print(\"Accuracy test set: %.3f\" %accuracy_test)\n",
    "    print(\"Precision training set: %.3f\" %precision_train)\n",
    "    print(\"Precision test set: %.3f\" %precision_test)\n",
    "    print(\"Recall training set: %.3f\" %recall_train)\n",
    "    print(\"Recall test set: %.3f\" %recall_test)\n",
    "    print(\"F1 score training set: %.3f\" %f1_train)\n",
    "    print(\"F1 score test set: %.3f\" %f1_test)\n",
    "    print(' ')\n",
    "    confM=confusion_matrix(Y_train,train_outputs)\n",
    "    print(\"Confusion Matrix - Train Set\")\n",
    "    print(confM)\n",
    "\n",
    "    confMd=confusion_matrix(Y_test,test_outputs)\n",
    "    print(\"Confusion Matrix - Test Set\")\n",
    "    print(confMd) \n",
    "main()"
   ]
  },
  {
   "cell_type": "code",
   "execution_count": null,
   "id": "2bd21583",
   "metadata": {},
   "outputs": [],
   "source": []
  }
 ],
 "metadata": {
  "kernelspec": {
   "display_name": "Python 3 (ipykernel)",
   "language": "python",
   "name": "python3"
  },
  "language_info": {
   "codemirror_mode": {
    "name": "ipython",
    "version": 3
   },
   "file_extension": ".py",
   "mimetype": "text/x-python",
   "name": "python",
   "nbconvert_exporter": "python",
   "pygments_lexer": "ipython3",
   "version": "3.10.13"
  }
 },
 "nbformat": 4,
 "nbformat_minor": 5
}
